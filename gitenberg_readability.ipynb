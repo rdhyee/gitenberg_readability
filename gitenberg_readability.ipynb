{
 "cells": [
  {
   "cell_type": "code",
   "execution_count": 1,
   "metadata": {
    "collapsed": true
   },
   "outputs": [],
   "source": [
    "from __future__ import print_function\n",
    "import os\n",
    "from itertools import izip, islice\n",
    "from collections import defaultdict\n",
    "\n",
    "import readability\n",
    "import requests\n",
    "from gutenberg import cleanup\n",
    "\n",
    "import pandas as pd\n",
    "from pandas import DataFrame"
   ]
  },
  {
   "cell_type": "code",
   "execution_count": 2,
   "metadata": {
    "collapsed": true
   },
   "outputs": [],
   "source": [
    "%matplotlib inline"
   ]
  },
  {
   "cell_type": "markdown",
   "metadata": {},
   "source": [
    "# Readability\n",
    "\n",
    "[readability 0.1 : Python Package Index](https://pypi.python.org/pypi/readability/0.1)\n",
    "\n",
    "```\n",
    "pip install https://github.com/andreasvc/readability/tarball/master\n",
    "pip install Gutenberg\n",
    "```\n",
    "\n",
    "https://github.com/c-w/Gutenberg/blob/master/gutenberg/cleanup/strip_headers.py"
   ]
  },
  {
   "cell_type": "markdown",
   "metadata": {},
   "source": [
    "* Kincaid: https://en.wikipedia.org/wiki/Flesch%E2%80%93Kincaid_readability_tests#Flesch.E2.80.93Kincaid_grade_level and https://github.com/andreasvc/readability/blob/v0.1/readability/__init__.py#L118\n",
    "* SMOG: https://en.wikipedia.org/wiki/SMOG and https://github.com/andreasvc/readability/blob/v0.1/readability/__init__.py#L143"
   ]
  },
  {
   "cell_type": "code",
   "execution_count": 3,
   "metadata": {
    "collapsed": false
   },
   "outputs": [
    {
     "data": {
      "text/plain": [
       "(u\"\\n\\n\\n\\n\\nMOBY DICK; OR THE WHALE\\n\\nBy Herman Melville\\n\\n\\n\\n\\nOriginal Transcriber's Notes:\\n\\nThis text is a c\",\n",
       " u'ing Rachel, that in\\nher retracing search after her missing children, only found another\\norphan.\\n\\n\\n\\n\\n')"
      ]
     },
     "execution_count": 3,
     "metadata": {},
     "output_type": "execute_result"
    }
   ],
   "source": [
    "# Moby Dick\n",
    "\n",
    "url = \"https://github.com/GITenberg/Moby-Dick--Or-The-Whale_2701/raw/master/2701.txt\"\n",
    "text = cleanup.strip_headers(requests.get(url).text)\n",
    "text[:100], text[-100:]"
   ]
  },
  {
   "cell_type": "code",
   "execution_count": 4,
   "metadata": {
    "collapsed": false
   },
   "outputs": [],
   "source": [
    "moby_readability = readability.getmeasures(text, lang='en')"
   ]
  },
  {
   "cell_type": "code",
   "execution_count": 5,
   "metadata": {
    "collapsed": false
   },
   "outputs": [
    {
     "data": {
      "text/plain": [
       "(957565, 215173)"
      ]
     },
     "execution_count": 5,
     "metadata": {},
     "output_type": "execute_result"
    }
   ],
   "source": [
    "moby_readability.get('sentence info').get('characters'), moby_readability.get('sentence info').get('words')"
   ]
  },
  {
   "cell_type": "code",
   "execution_count": 6,
   "metadata": {
    "collapsed": false
   },
   "outputs": [
    {
     "data": {
      "text/plain": [
       "(8.771045094479767, 5.190075975866268)"
      ]
     },
     "execution_count": 6,
     "metadata": {},
     "output_type": "execute_result"
    }
   ],
   "source": [
    "moby_readability['readability grades'].get('SMOGIndex'), moby_readability['readability grades'].get('Kincaid')"
   ]
  },
  {
   "cell_type": "markdown",
   "metadata": {},
   "source": [
    "# Read the data file with list of GITenberg repositories and text files"
   ]
  },
  {
   "cell_type": "code",
   "execution_count": 7,
   "metadata": {
    "collapsed": false
   },
   "outputs": [],
   "source": [
    "# you can get the GITenberg_repos_list_2.tsv from https://gist.github.com/rdhyee/3c9195d639223ce5e4c7\n",
    "# https://gist.githubusercontent.com/rdhyee/3c9195d639223ce5e4c7/raw/GITenberg_repos_list_2.tsv\n",
    "\n",
    "if not os.stat(\"GITenberg_repos_list_2.tsv\"):\n",
    "    DATAFILE_URL = \"https://gist.githubusercontent.com/rdhyee/3c9195d639223ce5e4c7/raw/GITenberg_repos_list_2.tsv\"\n",
    "    with open(\"GITenberg_repos_list_2.tsv\", \"wb\") as f:\n",
    "        f.write(requests.get(DATAFILE_URL).content)\n",
    "\n",
    "df = pd.read_csv(\"GITenberg_repos_list_2.tsv\", sep=\"\\t\", encoding=\"UTF-8\")"
   ]
  },
  {
   "cell_type": "code",
   "execution_count": 8,
   "metadata": {
    "collapsed": false
   },
   "outputs": [],
   "source": [
    "def classify_text_files(g_id, files):\n",
    "    \"\"\"\n",
    "    put into buckets: .txt, -0.txt, -5.txt, -8.txt, other\n",
    "    \"\"\"\n",
    "    \n",
    "    # https://www.gutenberg.org/files/\n",
    "    bucket_labels = [('ascii', \"{g_id}.txt\"),\n",
    "                     ('utf-8', \"{g_id}-0.txt\"),\n",
    "                     ('8-bit', \"{g_id}-8.txt\"), # iso-8859-1, windows-1252, MacRoman, ...\n",
    "                     ('big5',  \"{g_id}-5.txt\")\n",
    "                    ]\n",
    "    \n",
    "    buckets = defaultdict(list) # make values list to be consistent\n",
    "    files_set = set(files)\n",
    "    \n",
    "    for (label, template) in bucket_labels:\n",
    "        f_name = template.format(g_id=g_id)\n",
    "        if f_name in files_set:\n",
    "            buckets[label].append(f_name)\n",
    "            files_set.remove(f_name)\n",
    "            \n",
    "    # pick up rest      \n",
    "    if files_set:\n",
    "        buckets['other'] = list(files_set)\n",
    "    \n",
    "    return buckets.items()  \n",
    "    \n",
    "# https://raw.githubusercontent.com/GITenberg/Little-Dorrit_963/master/963.txt\n",
    "\n",
    "def gitenberg_url(title, text_file):\n",
    "    return \"https://raw.githubusercontent.com/GITenberg/{title}/master/{text_file}\".format(title=title,\n",
    "                                                                                          text_file=text_file)\n",
    "\n",
    "# any other in the form of (\\d+)-(\\d).txt or \\(d+).txt?\n",
    "\n",
    "def unexpected_other(files):\n",
    "    \"\"\"files whose file namelooks suspicious \"\"\"\n",
    "    import re\n",
    "\n",
    "    if files is None:\n",
    "        return False\n",
    "    \n",
    "    for f in files:\n",
    "        if re.search(r'^(\\d+)-(\\d).txt$', f) or re.search(r'^(\\d+).txt$', f):\n",
    "            return True\n",
    "    \n",
    "    return False\n",
    "\n",
    "# compute URL for a text file\n",
    "\n",
    "def gitenberg_raw_url(repo_name, file_name, branch='master'):\n",
    "    if file_name is not None:\n",
    "        return \"https://raw.githubusercontent.com/GITenberg/{repo_name}/{branch}/{file_name}\".format(repo_name=repo_name,\n",
    "                                                                                                file_name=file_name,\n",
    "                                                                                                branch=branch)\n",
    "    else:\n",
    "        return None\n",
    "\n",
    "    \n",
    "# for a given repository, return URL for \"best\" file to work with\n",
    "#preference:  utf-8, ascii, big5, 8-bit (because of ambiguity)\n",
    "# if unicode available, return it and encoding\n",
    "\n",
    "def preferred_file(files_d):\n",
    "    PREF_ORDER = ['utf-8', 'ascii', 'big5', '8-bit']\n",
    "    for f_type in PREF_ORDER:\n",
    "        files_of_type = files_d.get(f_type)\n",
    "        if files_of_type:\n",
    "            return (files_of_type[0], f_type)\n",
    "        \n",
    "    return (None, None)\n",
    "\n",
    "# HTTP HEAD on the file\n",
    "def http_head_status(url):\n",
    "    import requests\n",
    "    \n",
    "    if url is not None:\n",
    "        r = requests.head(url)\n",
    "        return r.status_code\n",
    "    else:\n",
    "        return None"
   ]
  },
  {
   "cell_type": "code",
   "execution_count": 9,
   "metadata": {
    "collapsed": false
   },
   "outputs": [],
   "source": [
    "# what about those multiple txt\n",
    "df.text_files = df.text_files.map(lambda s: [f.strip() for f in s[1:-1].split(\",\") if len(f) and not f.isspace()])"
   ]
  },
  {
   "cell_type": "code",
   "execution_count": 10,
   "metadata": {
    "collapsed": false
   },
   "outputs": [],
   "source": [
    "df['files_by_encoding'] = df.apply(lambda r:classify_text_files(r.gitb_id, r.text_files), axis=1).map(dict)"
   ]
  },
  {
   "cell_type": "code",
   "execution_count": 11,
   "metadata": {
    "collapsed": false
   },
   "outputs": [],
   "source": [
    "# study 'other'\n",
    "df['other'] = df.files_by_encoding.map(lambda d: d.get('other'))"
   ]
  },
  {
   "cell_type": "code",
   "execution_count": 12,
   "metadata": {
    "collapsed": false
   },
   "outputs": [
    {
     "data": {
      "text/html": [
       "<div>\n",
       "<table border=\"1\" class=\"dataframe\">\n",
       "  <thead>\n",
       "    <tr style=\"text-align: right;\">\n",
       "      <th></th>\n",
       "      <th>gitb_id</th>\n",
       "      <th>other</th>\n",
       "      <th>text_files</th>\n",
       "    </tr>\n",
       "  </thead>\n",
       "  <tbody>\n",
       "    <tr>\n",
       "      <th>3041</th>\n",
       "      <td>11052</td>\n",
       "      <td>[11502-8.txt]</td>\n",
       "      <td>[11502-8.txt, 11052.txt, 11052-8.txt]</td>\n",
       "    </tr>\n",
       "    <tr>\n",
       "      <th>4734</th>\n",
       "      <td>37985</td>\n",
       "      <td>[37895-8.txt]</td>\n",
       "      <td>[37985.txt, 37895-8.txt, 37985-0.txt]</td>\n",
       "    </tr>\n",
       "    <tr>\n",
       "      <th>7176</th>\n",
       "      <td>20915</td>\n",
       "      <td>[20015.txt]</td>\n",
       "      <td>[20915-8.txt, 20015.txt]</td>\n",
       "    </tr>\n",
       "    <tr>\n",
       "      <th>11948</th>\n",
       "      <td>3198</td>\n",
       "      <td>[3189-8.txt, 3189.txt]</td>\n",
       "      <td>[3189-8.txt, 3189.txt, 3198.txt]</td>\n",
       "    </tr>\n",
       "    <tr>\n",
       "      <th>12293</th>\n",
       "      <td>36084</td>\n",
       "      <td>[36086-8.txt]</td>\n",
       "      <td>[36086-8.txt, 36084-0.txt]</td>\n",
       "    </tr>\n",
       "    <tr>\n",
       "      <th>27517</th>\n",
       "      <td>5964</td>\n",
       "      <td>[5694-8.txt]</td>\n",
       "      <td>[5964.txt, 5964-8.txt, 5694-8.txt]</td>\n",
       "    </tr>\n",
       "    <tr>\n",
       "      <th>34856</th>\n",
       "      <td>38494</td>\n",
       "      <td>[38535-0.txt]</td>\n",
       "      <td>[38494-0.txt, 38535-0.txt]</td>\n",
       "    </tr>\n",
       "  </tbody>\n",
       "</table>\n",
       "</div>"
      ],
      "text/plain": [
       "       gitb_id                   other                             text_files\n",
       "3041     11052           [11502-8.txt]  [11502-8.txt, 11052.txt, 11052-8.txt]\n",
       "4734     37985           [37895-8.txt]  [37985.txt, 37895-8.txt, 37985-0.txt]\n",
       "7176     20915             [20015.txt]               [20915-8.txt, 20015.txt]\n",
       "11948     3198  [3189-8.txt, 3189.txt]       [3189-8.txt, 3189.txt, 3198.txt]\n",
       "12293    36084           [36086-8.txt]             [36086-8.txt, 36084-0.txt]\n",
       "27517     5964            [5694-8.txt]     [5964.txt, 5964-8.txt, 5694-8.txt]\n",
       "34856    38494           [38535-0.txt]             [38494-0.txt, 38535-0.txt]"
      ]
     },
     "execution_count": 12,
     "metadata": {},
     "output_type": "execute_result"
    }
   ],
   "source": [
    "# hmmm...these files deserve a closer look\n",
    "df[df.other.map(unexpected_other)][['gitb_id','other','text_files']]"
   ]
  },
  {
   "cell_type": "code",
   "execution_count": 13,
   "metadata": {
    "collapsed": false
   },
   "outputs": [],
   "source": [
    "df['preferred_file'] = df.files_by_encoding.map(preferred_file)"
   ]
  },
  {
   "cell_type": "code",
   "execution_count": 14,
   "metadata": {
    "collapsed": false
   },
   "outputs": [
    {
     "data": {
      "text/html": [
       "<div>\n",
       "<table border=\"1\" class=\"dataframe\">\n",
       "  <thead>\n",
       "    <tr style=\"text-align: right;\">\n",
       "      <th></th>\n",
       "      <th>Unnamed: 0</th>\n",
       "      <th>gitb_id</th>\n",
       "      <th>gitb_name</th>\n",
       "      <th>title</th>\n",
       "      <th>language</th>\n",
       "      <th>downloads</th>\n",
       "      <th>text_files</th>\n",
       "      <th>files_by_encoding</th>\n",
       "      <th>other</th>\n",
       "      <th>preferred_file</th>\n",
       "    </tr>\n",
       "  </thead>\n",
       "  <tbody>\n",
       "    <tr>\n",
       "      <th>0</th>\n",
       "      <td>3881</td>\n",
       "      <td>1342</td>\n",
       "      <td>Pride-and-Prejudice_1342</td>\n",
       "      <td>Pride and Prejudice</td>\n",
       "      <td>en</td>\n",
       "      <td>39054</td>\n",
       "      <td>[1342.txt]</td>\n",
       "      <td>{u'ascii': [u'1342.txt']}</td>\n",
       "      <td>None</td>\n",
       "      <td>(1342.txt, ascii)</td>\n",
       "    </tr>\n",
       "    <tr>\n",
       "      <th>1</th>\n",
       "      <td>2258</td>\n",
       "      <td>11</td>\n",
       "      <td>Alice-s-Adventures-in-Wonderland_11</td>\n",
       "      <td>Alice's Adventures in Wonderland</td>\n",
       "      <td>en</td>\n",
       "      <td>27037</td>\n",
       "      <td>[11.txt]</td>\n",
       "      <td>{u'ascii': [u'11.txt']}</td>\n",
       "      <td>None</td>\n",
       "      <td>(11.txt, ascii)</td>\n",
       "    </tr>\n",
       "    <tr>\n",
       "      <th>2</th>\n",
       "      <td>19931</td>\n",
       "      <td>27827</td>\n",
       "      <td>The-Kama-Sutra-of-Vatsyayana--13-Translated-Fr...</td>\n",
       "      <td>The Kama Sutra of Vatsyayana\\nTranslated From ...</td>\n",
       "      <td>en</td>\n",
       "      <td>19610</td>\n",
       "      <td>[27827-8.txt, 27827.txt]</td>\n",
       "      <td>{u'8-bit': [u'27827-8.txt'], u'ascii': [u'2782...</td>\n",
       "      <td>None</td>\n",
       "      <td>(27827.txt, ascii)</td>\n",
       "    </tr>\n",
       "    <tr>\n",
       "      <th>3</th>\n",
       "      <td>46905</td>\n",
       "      <td>76</td>\n",
       "      <td>Adventures-of-Huckleberry-Finn_76</td>\n",
       "      <td>Adventures of Huckleberry Finn</td>\n",
       "      <td>en</td>\n",
       "      <td>17799</td>\n",
       "      <td>[76.txt]</td>\n",
       "      <td>{u'ascii': [u'76.txt']}</td>\n",
       "      <td>None</td>\n",
       "      <td>(76.txt, ascii)</td>\n",
       "    </tr>\n",
       "    <tr>\n",
       "      <th>4</th>\n",
       "      <td>46682</td>\n",
       "      <td>74</td>\n",
       "      <td>The-Adventures-of-Tom-Sawyer_74</td>\n",
       "      <td>The Adventures of Tom Sawyer</td>\n",
       "      <td>en</td>\n",
       "      <td>17767</td>\n",
       "      <td>[74.txt]</td>\n",
       "      <td>{u'ascii': [u'74.txt']}</td>\n",
       "      <td>None</td>\n",
       "      <td>(74.txt, ascii)</td>\n",
       "    </tr>\n",
       "  </tbody>\n",
       "</table>\n",
       "</div>"
      ],
      "text/plain": [
       "   Unnamed: 0  gitb_id                                          gitb_name  \\\n",
       "0        3881     1342                           Pride-and-Prejudice_1342   \n",
       "1        2258       11                Alice-s-Adventures-in-Wonderland_11   \n",
       "2       19931    27827  The-Kama-Sutra-of-Vatsyayana--13-Translated-Fr...   \n",
       "3       46905       76                  Adventures-of-Huckleberry-Finn_76   \n",
       "4       46682       74                    The-Adventures-of-Tom-Sawyer_74   \n",
       "\n",
       "                                               title language  downloads  \\\n",
       "0                                Pride and Prejudice       en      39054   \n",
       "1                   Alice's Adventures in Wonderland       en      27037   \n",
       "2  The Kama Sutra of Vatsyayana\\nTranslated From ...       en      19610   \n",
       "3                     Adventures of Huckleberry Finn       en      17799   \n",
       "4                       The Adventures of Tom Sawyer       en      17767   \n",
       "\n",
       "                 text_files  \\\n",
       "0                [1342.txt]   \n",
       "1                  [11.txt]   \n",
       "2  [27827-8.txt, 27827.txt]   \n",
       "3                  [76.txt]   \n",
       "4                  [74.txt]   \n",
       "\n",
       "                                   files_by_encoding other      preferred_file  \n",
       "0                          {u'ascii': [u'1342.txt']}  None   (1342.txt, ascii)  \n",
       "1                            {u'ascii': [u'11.txt']}  None     (11.txt, ascii)  \n",
       "2  {u'8-bit': [u'27827-8.txt'], u'ascii': [u'2782...  None  (27827.txt, ascii)  \n",
       "3                            {u'ascii': [u'76.txt']}  None     (76.txt, ascii)  \n",
       "4                            {u'ascii': [u'74.txt']}  None     (74.txt, ascii)  "
      ]
     },
     "execution_count": 14,
     "metadata": {},
     "output_type": "execute_result"
    }
   ],
   "source": [
    "df.head()"
   ]
  },
  {
   "cell_type": "code",
   "execution_count": 15,
   "metadata": {
    "collapsed": false
   },
   "outputs": [],
   "source": [
    "df['preferred_text_url'] = df.apply(lambda row: gitenberg_raw_url(row.gitb_name, row.preferred_file[0]), axis=1)"
   ]
  },
  {
   "cell_type": "code",
   "execution_count": 16,
   "metadata": {
    "collapsed": false
   },
   "outputs": [
    {
     "data": {
      "text/plain": [
       "0    200\n",
       "1    200\n",
       "2    200\n",
       "3    200\n",
       "4    200\n",
       "Name: preferred_text_url, dtype: int64"
      ]
     },
     "execution_count": 16,
     "metadata": {},
     "output_type": "execute_result"
    }
   ],
   "source": [
    "df[:5].preferred_text_url.map(http_head_status)"
   ]
  },
  {
   "cell_type": "code",
   "execution_count": 17,
   "metadata": {
    "collapsed": true
   },
   "outputs": [],
   "source": [
    "# decorator that returns a tuple with args and return value\n",
    "\n",
    "def also_arg(func):\n",
    "    \"\"\"\n",
    "    for use for single-argument function\n",
    "    \"\"\"\n",
    "    def wrapper(arg, label=None):\n",
    "        try:\n",
    "            result = func(arg)\n",
    "        except Exception, e:\n",
    "            result = e\n",
    "            \n",
    "        return {'arg':arg, 'result':result, 'label':label}\n",
    "    \n",
    "    return wrapper"
   ]
  },
  {
   "cell_type": "code",
   "execution_count": 18,
   "metadata": {
    "collapsed": false
   },
   "outputs": [
    {
     "name": "stdout",
     "output_type": "stream",
     "text": [
      "\r",
      ">> Result 0\r",
      ">> Result 1\r",
      ">> Result 2\r",
      ">> Result 3\r",
      ">> Result 4\r",
      ">> Result 5"
     ]
    }
   ],
   "source": [
    "# http://chriskiehl.com/article/parallelism-in-one-line/\n",
    "from __future__ import print_function\n",
    "from multiprocessing import Pool as ProcessPool\n",
    "from multiprocessing.dummy import Pool as ThreadPool \n",
    "from functools import partial\n",
    "from itertools import islice\n",
    "\n",
    "from math import factorial\n",
    "\n",
    "# http://stackoverflow.com/questions/2348317/how-to-write-a-pager-for-python-iterators/2350904#2350904        \n",
    "def grouper(iterable, page_size):\n",
    "    page= []\n",
    "    for item in iterable:\n",
    "        page.append( item )\n",
    "        if len(page) == page_size:\n",
    "            yield page\n",
    "            page= []\n",
    "    if len(page) > 0:\n",
    "        yield page\n",
    "\n",
    "\n",
    "#get_key_sizes_for_bucket = partial(get_key_sizes, bucket_name=\"aws-publicdatasets\")\n",
    "\n",
    "PAGE_SIZE = 10\n",
    "POOL_SIZE = 8\n",
    "MAX_SEGMENTS = 5 # replace with None for all segments\n",
    "CHUNK_SIZE = 10\n",
    "\n",
    "pool = ThreadPool(POOL_SIZE)  # or ThreadPool\n",
    "results_iter = pool.imap_unordered(lambda x:also_arg(factorial)(x, label=\"job:{0}\".format(x)), \n",
    "                              xrange(-1,MAX_SEGMENTS),\n",
    "                              CHUNK_SIZE)\n",
    "\n",
    "results = []\n",
    "                             \n",
    "for (i, result) in enumerate(islice(results_iter,None)):\n",
    "    print ('\\r>> Result %d' % i, end=\"\")\n",
    "    results.append(result)\n",
    "            "
   ]
  },
  {
   "cell_type": "code",
   "execution_count": 19,
   "metadata": {
    "collapsed": false
   },
   "outputs": [
    {
     "data": {
      "text/plain": [
       "[{'arg': -1,\n",
       "  'label': 'job:-1',\n",
       "  'result': ValueError('factorial() not defined for negative values')},\n",
       " {'arg': 0, 'label': 'job:0', 'result': 1},\n",
       " {'arg': 1, 'label': 'job:1', 'result': 1},\n",
       " {'arg': 2, 'label': 'job:2', 'result': 2},\n",
       " {'arg': 3, 'label': 'job:3', 'result': 6},\n",
       " {'arg': 4, 'label': 'job:4', 'result': 24}]"
      ]
     },
     "execution_count": 19,
     "metadata": {},
     "output_type": "execute_result"
    }
   ],
   "source": [
    "results"
   ]
  },
  {
   "cell_type": "markdown",
   "metadata": {},
   "source": [
    "# calculate HTTP HEAD status"
   ]
  },
  {
   "cell_type": "code",
   "execution_count": 20,
   "metadata": {
    "collapsed": false
   },
   "outputs": [
    {
     "name": "stdout",
     "output_type": "stream",
     "text": [
      ">> Result 19"
     ]
    }
   ],
   "source": [
    "#get_key_sizes_for_bucket = partial(get_key_sizes, bucket_name=\"aws-publicdatasets\")\n",
    "\n",
    "PAGE_SIZE = 10\n",
    "POOL_SIZE = 4\n",
    "MAX_SEGMENTS = 20 # replace with None for all segments\n",
    "CHUNK_SIZE = 10\n",
    "\n",
    "pool = ThreadPool(POOL_SIZE)  # or ThreadPool\n",
    "results_iter = pool.imap_unordered(lambda x: also_arg(http_head_status)(x[1],label=x[0]), \n",
    "                              df[:MAX_SEGMENTS].apply(lambda r: (r.gitb_id,r.preferred_text_url), axis=1),\n",
    "                              CHUNK_SIZE)\n",
    "\n",
    "results = []\n",
    "                             \n",
    "for (i, result) in enumerate(islice(results_iter,None)):\n",
    "    print ('\\r>> Result %d' % i, end=\"\")\n",
    "    results.append(result)"
   ]
  },
  {
   "cell_type": "code",
   "execution_count": 21,
   "metadata": {
    "collapsed": false
   },
   "outputs": [
    {
     "data": {
      "text/plain": [
       "[{'arg': 'https://raw.githubusercontent.com/GITenberg/Pride-and-Prejudice_1342/master/1342.txt',\n",
       "  'label': 1342,\n",
       "  'result': 200},\n",
       " {'arg': 'https://raw.githubusercontent.com/GITenberg/Alice-s-Adventures-in-Wonderland_11/master/11.txt',\n",
       "  'label': 11,\n",
       "  'result': 200},\n",
       " {'arg': 'https://raw.githubusercontent.com/GITenberg/The-Kama-Sutra-of-Vatsyayana--13-Translated-From-the-Sanscrit-in-Seven-Parts-With-Preface-Int__27827/master/27827.txt',\n",
       "  'label': 27827,\n",
       "  'result': 200},\n",
       " {'arg': 'https://raw.githubusercontent.com/GITenberg/Adventures-of-Huckleberry-Finn_76/master/76.txt',\n",
       "  'label': 76,\n",
       "  'result': 200},\n",
       " {'arg': 'https://raw.githubusercontent.com/GITenberg/The-Adventures-of-Tom-Sawyer_74/master/74.txt',\n",
       "  'label': 74,\n",
       "  'result': 200},\n",
       " {'arg': 'https://raw.githubusercontent.com/GITenberg/The-Yellow-Wallpaper_1952/master/1952.txt',\n",
       "  'label': 1952,\n",
       "  'result': 200},\n",
       " {'arg': 'https://raw.githubusercontent.com/GITenberg/Ulysses_4300/master/4300.txt',\n",
       "  'label': 4300,\n",
       "  'result': 200},\n",
       " {'arg': 'https://raw.githubusercontent.com/GITenberg/The-Picture-of-Dorian-Gray_174/master/174.txt',\n",
       "  'label': 174,\n",
       "  'result': 200},\n",
       " {'arg': 'https://raw.githubusercontent.com/GITenberg/A-Tale-of-Two-Cities_98/master/98.txt',\n",
       "  'label': 98,\n",
       "  'result': 200},\n",
       " {'arg': 'https://raw.githubusercontent.com/GITenberg/The-Adventures-of-Sherlock-Holmes_1661/master/1661.txt',\n",
       "  'label': 1661,\n",
       "  'result': 200},\n",
       " {'arg': 'https://raw.githubusercontent.com/GITenberg/Metamorphosis_5200/master/5200.txt',\n",
       "  'label': 5200,\n",
       "  'result': 200},\n",
       " {'arg': 'https://raw.githubusercontent.com/GITenberg/The-Prince_1232/master/1232.txt',\n",
       "  'label': 1232,\n",
       "  'result': 200},\n",
       " {'arg': 'https://raw.githubusercontent.com/GITenberg/Moby-Dick--Or-The-Whale_2701/master/2701.txt',\n",
       "  'label': 2701,\n",
       "  'result': 200},\n",
       " {'arg': 'https://raw.githubusercontent.com/GITenberg/The-Importance-of-Being-Earnest--A-Trivial-Comedy-for-Serious-People_844/master/844.txt',\n",
       "  'label': 844,\n",
       "  'result': 200},\n",
       " {'arg': 'https://raw.githubusercontent.com/GITenberg/Grimms-Fairy-Tales_2591/master/2591.txt',\n",
       "  'label': 2591,\n",
       "  'result': 200},\n",
       " {'arg': 'https://raw.githubusercontent.com/GITenberg/Leaves-of-Grass_1322/master/1322.txt',\n",
       "  'label': 1322,\n",
       "  'result': 200},\n",
       " {'arg': 'https://raw.githubusercontent.com/GITenberg/The-Romance-of-Lust--A-Classic-Victorian-erotic-novel_30254/master/30254.txt',\n",
       "  'label': 30254,\n",
       "  'result': 200},\n",
       " {'arg': 'https://raw.githubusercontent.com/GITenberg/Les-Mis-rables_135/master/135.txt',\n",
       "  'label': 135,\n",
       "  'result': 200},\n",
       " {'arg': 'https://raw.githubusercontent.com/GITenberg/Emma_158/master/158.txt',\n",
       "  'label': 158,\n",
       "  'result': 200},\n",
       " {'arg': 'https://raw.githubusercontent.com/GITenberg/Beowulf--13-An-Anglo-Saxon-Epic-Poem_16328/master/16328.txt',\n",
       "  'label': 16328,\n",
       "  'result': 200}]"
      ]
     },
     "execution_count": 21,
     "metadata": {},
     "output_type": "execute_result"
    }
   ],
   "source": [
    "results"
   ]
  },
  {
   "cell_type": "code",
   "execution_count": 22,
   "metadata": {
    "collapsed": true
   },
   "outputs": [],
   "source": [
    "# write a function to take a url and returns readability of the text at URL\n",
    "\n",
    "def readability_of_text(url):\n",
    "\n",
    "    text = cleanup.strip_headers(requests.get(url).text)\n",
    "    return readability.getmeasures(text, lang='en')\n",
    "        "
   ]
  },
  {
   "cell_type": "code",
   "execution_count": 23,
   "metadata": {
    "collapsed": false
   },
   "outputs": [
    {
     "name": "stdout",
     "output_type": "stream",
     "text": [
      ">> Result 99"
     ]
    }
   ],
   "source": [
    "POOL_SIZE = 4\n",
    "MAX_SEGMENTS = 100 # replace with None for all segments\n",
    "CHUNK_SIZE = 10\n",
    "\n",
    "pool = ThreadPool(POOL_SIZE)  # or ThreadPool\n",
    "results_iter = pool.imap_unordered(lambda x: also_arg(readability_of_text)(x[1],label=x[0]), \n",
    "                              df[df.language=='en'][:MAX_SEGMENTS].apply(lambda r: (r.gitb_id,r.preferred_text_url), axis=1),\n",
    "                              CHUNK_SIZE)\n",
    "\n",
    "results = []\n",
    "                             \n",
    "for (i, result) in enumerate(islice(results_iter,None)):\n",
    "    print ('\\r>> Result %d' % i, end=\"\")\n",
    "    results.append(result)"
   ]
  },
  {
   "cell_type": "code",
   "execution_count": 24,
   "metadata": {
    "collapsed": false
   },
   "outputs": [
    {
     "data": {
      "text/html": [
       "<div>\n",
       "<table border=\"1\" class=\"dataframe\">\n",
       "  <thead>\n",
       "    <tr style=\"text-align: right;\">\n",
       "      <th></th>\n",
       "      <th>arg</th>\n",
       "      <th>label</th>\n",
       "      <th>result</th>\n",
       "    </tr>\n",
       "  </thead>\n",
       "  <tbody>\n",
       "    <tr>\n",
       "      <th>0</th>\n",
       "      <td>https://raw.githubusercontent.com/GITenberg/A-...</td>\n",
       "      <td>1080</td>\n",
       "      <td>{u'readability grades': {u'Kincaid': 5.8586680...</td>\n",
       "    </tr>\n",
       "    <tr>\n",
       "      <th>1</th>\n",
       "      <td>https://raw.githubusercontent.com/GITenberg/A-...</td>\n",
       "      <td>1080</td>\n",
       "      <td>{u'readability grades': {u'Kincaid': 5.8586680...</td>\n",
       "    </tr>\n",
       "    <tr>\n",
       "      <th>2</th>\n",
       "      <td>https://raw.githubusercontent.com/GITenberg/Du...</td>\n",
       "      <td>2814</td>\n",
       "      <td>{u'readability grades': {u'Kincaid': 3.8474982...</td>\n",
       "    </tr>\n",
       "    <tr>\n",
       "      <th>3</th>\n",
       "      <td>https://raw.githubusercontent.com/GITenberg/Ja...</td>\n",
       "      <td>1260</td>\n",
       "      <td>{u'readability grades': {u'Kincaid': 4.3493942...</td>\n",
       "    </tr>\n",
       "    <tr>\n",
       "      <th>4</th>\n",
       "      <td>https://raw.githubusercontent.com/GITenberg/Ja...</td>\n",
       "      <td>1260</td>\n",
       "      <td>{u'readability grades': {u'Kincaid': 4.3508467...</td>\n",
       "    </tr>\n",
       "  </tbody>\n",
       "</table>\n",
       "</div>"
      ],
      "text/plain": [
       "                                                 arg  label  \\\n",
       "0  https://raw.githubusercontent.com/GITenberg/A-...   1080   \n",
       "1  https://raw.githubusercontent.com/GITenberg/A-...   1080   \n",
       "2  https://raw.githubusercontent.com/GITenberg/Du...   2814   \n",
       "3  https://raw.githubusercontent.com/GITenberg/Ja...   1260   \n",
       "4  https://raw.githubusercontent.com/GITenberg/Ja...   1260   \n",
       "\n",
       "                                              result  \n",
       "0  {u'readability grades': {u'Kincaid': 5.8586680...  \n",
       "1  {u'readability grades': {u'Kincaid': 5.8586680...  \n",
       "2  {u'readability grades': {u'Kincaid': 3.8474982...  \n",
       "3  {u'readability grades': {u'Kincaid': 4.3493942...  \n",
       "4  {u'readability grades': {u'Kincaid': 4.3508467...  "
      ]
     },
     "execution_count": 24,
     "metadata": {},
     "output_type": "execute_result"
    }
   ],
   "source": [
    "r_df = DataFrame(results)\n",
    "r_df.head()"
   ]
  },
  {
   "cell_type": "code",
   "execution_count": 25,
   "metadata": {
    "collapsed": false
   },
   "outputs": [],
   "source": [
    "r_df['exception'] = r_df.result.map(lambda r: isinstance(r, Exception))"
   ]
  },
  {
   "cell_type": "code",
   "execution_count": 26,
   "metadata": {
    "collapsed": false
   },
   "outputs": [
    {
     "data": {
      "text/plain": [
       "<matplotlib.axes._subplots.AxesSubplot at 0x7fe8282c4950>"
      ]
     },
     "execution_count": 26,
     "metadata": {},
     "output_type": "execute_result"
    },
    {
     "data": {
      "image/png": "[encoded data removed]",
      "text/plain": [
       "<matplotlib.figure.Figure at 0x7fe8282c4a90>"
      ]
     },
     "metadata": {},
     "output_type": "display_data"
    }
   ],
   "source": [
    "r_df[~r_df.exception].result.map(lambda r: r['readability grades'].get('SMOGIndex')).hist()"
   ]
  },
  {
   "cell_type": "code",
   "execution_count": 27,
   "metadata": {
    "collapsed": false
   },
   "outputs": [],
   "source": [
    "df['SMOGIndex'] = r_df[~r_df.exception].result.map(lambda r: r['readability grades'].get('SMOGIndex'))"
   ]
  },
  {
   "cell_type": "code",
   "execution_count": 28,
   "metadata": {
    "collapsed": false
   },
   "outputs": [
    {
     "data": {
      "text/html": [
       "<div>\n",
       "<table border=\"1\" class=\"dataframe\">\n",
       "  <thead>\n",
       "    <tr style=\"text-align: right;\">\n",
       "      <th></th>\n",
       "      <th>title</th>\n",
       "      <th>SMOGIndex</th>\n",
       "    </tr>\n",
       "  </thead>\n",
       "  <tbody>\n",
       "    <tr>\n",
       "      <th>93</th>\n",
       "      <td>The Awakening, and Selected Short Stories</td>\n",
       "      <td>3.000000</td>\n",
       "    </tr>\n",
       "    <tr>\n",
       "      <th>81</th>\n",
       "      <td>The King James Version of the Bible</td>\n",
       "      <td>3.000000</td>\n",
       "    </tr>\n",
       "    <tr>\n",
       "      <th>97</th>\n",
       "      <td>The Art of War</td>\n",
       "      <td>4.131155</td>\n",
       "    </tr>\n",
       "    <tr>\n",
       "      <th>69</th>\n",
       "      <td>The Time Machine</td>\n",
       "      <td>4.976849</td>\n",
       "    </tr>\n",
       "    <tr>\n",
       "      <th>84</th>\n",
       "      <td>Complete Original Short Stories of Guy De Maup...</td>\n",
       "      <td>5.982258</td>\n",
       "    </tr>\n",
       "    <tr>\n",
       "      <th>37</th>\n",
       "      <td>Siddhartha</td>\n",
       "      <td>6.166544</td>\n",
       "    </tr>\n",
       "    <tr>\n",
       "      <th>47</th>\n",
       "      <td>Novo dicionário da língua portuguesa</td>\n",
       "      <td>6.581048</td>\n",
       "    </tr>\n",
       "    <tr>\n",
       "      <th>95</th>\n",
       "      <td>Essays of Michel de Montaigne — Complete</td>\n",
       "      <td>6.612771</td>\n",
       "    </tr>\n",
       "    <tr>\n",
       "      <th>13</th>\n",
       "      <td>The Importance of Being Earnest: A Trivial Com...</td>\n",
       "      <td>6.662959</td>\n",
       "    </tr>\n",
       "    <tr>\n",
       "      <th>24</th>\n",
       "      <td>Frankenstein; Or, The Modern Prometheus</td>\n",
       "      <td>6.727013</td>\n",
       "    </tr>\n",
       "    <tr>\n",
       "      <th>98</th>\n",
       "      <td>Calculus Made Easy\\nBeing a very-simplest intr...</td>\n",
       "      <td>6.794271</td>\n",
       "    </tr>\n",
       "    <tr>\n",
       "      <th>82</th>\n",
       "      <td>The King James Version of the Bible</td>\n",
       "      <td>6.877718</td>\n",
       "    </tr>\n",
       "    <tr>\n",
       "      <th>38</th>\n",
       "      <td>A Doll's House : a play</td>\n",
       "      <td>6.943520</td>\n",
       "    </tr>\n",
       "    <tr>\n",
       "      <th>76</th>\n",
       "      <td>A Christmas Carol in Prose; Being a Ghost Stor...</td>\n",
       "      <td>6.950681</td>\n",
       "    </tr>\n",
       "    <tr>\n",
       "      <th>75</th>\n",
       "      <td>Tractatus Logico-Philosophicus</td>\n",
       "      <td>6.950681</td>\n",
       "    </tr>\n",
       "    <tr>\n",
       "      <th>8</th>\n",
       "      <td>A Tale of Two Cities</td>\n",
       "      <td>6.976261</td>\n",
       "    </tr>\n",
       "    <tr>\n",
       "      <th>11</th>\n",
       "      <td>The Prince</td>\n",
       "      <td>7.038808</td>\n",
       "    </tr>\n",
       "    <tr>\n",
       "      <th>9</th>\n",
       "      <td>The Adventures of Sherlock Holmes</td>\n",
       "      <td>7.252489</td>\n",
       "    </tr>\n",
       "    <tr>\n",
       "      <th>90</th>\n",
       "      <td>The vision of hell. \\nBy Dante Alighieri.\\nTra...</td>\n",
       "      <td>7.302561</td>\n",
       "    </tr>\n",
       "    <tr>\n",
       "      <th>35</th>\n",
       "      <td>Gulliver's Travels into Several Remote Nations...</td>\n",
       "      <td>7.319249</td>\n",
       "    </tr>\n",
       "    <tr>\n",
       "      <th>15</th>\n",
       "      <td>Leaves of Grass</td>\n",
       "      <td>7.394145</td>\n",
       "    </tr>\n",
       "    <tr>\n",
       "      <th>70</th>\n",
       "      <td>Legends, Tales and Poems</td>\n",
       "      <td>7.397822</td>\n",
       "    </tr>\n",
       "    <tr>\n",
       "      <th>71</th>\n",
       "      <td>The Secret Adversary</td>\n",
       "      <td>7.397822</td>\n",
       "    </tr>\n",
       "    <tr>\n",
       "      <th>59</th>\n",
       "      <td>A Study in Scarlet</td>\n",
       "      <td>7.606199</td>\n",
       "    </tr>\n",
       "    <tr>\n",
       "      <th>25</th>\n",
       "      <td>Peter Pan</td>\n",
       "      <td>7.637228</td>\n",
       "    </tr>\n",
       "    <tr>\n",
       "      <th>31</th>\n",
       "      <td>A Modest Proposal\\nFor preventing the children...</td>\n",
       "      <td>7.670080</td>\n",
       "    </tr>\n",
       "    <tr>\n",
       "      <th>60</th>\n",
       "      <td>The Gentlemen's Book of Etiquette and Manual o...</td>\n",
       "      <td>7.712313</td>\n",
       "    </tr>\n",
       "    <tr>\n",
       "      <th>49</th>\n",
       "      <td>War and Peace</td>\n",
       "      <td>7.744888</td>\n",
       "    </tr>\n",
       "    <tr>\n",
       "      <th>30</th>\n",
       "      <td>A Modest Proposal\\nFor preventing the children...</td>\n",
       "      <td>7.816688</td>\n",
       "    </tr>\n",
       "    <tr>\n",
       "      <th>23</th>\n",
       "      <td>Frankenstein; Or, The Modern Prometheus</td>\n",
       "      <td>7.830132</td>\n",
       "    </tr>\n",
       "    <tr>\n",
       "      <th>...</th>\n",
       "      <td>...</td>\n",
       "      <td>...</td>\n",
       "    </tr>\n",
       "    <tr>\n",
       "      <th>58</th>\n",
       "      <td>Myths and Legends of Ancient Greece and Rome</td>\n",
       "      <td>8.808237</td>\n",
       "    </tr>\n",
       "    <tr>\n",
       "      <th>62</th>\n",
       "      <td>The Brothers Karamazov</td>\n",
       "      <td>8.848541</td>\n",
       "    </tr>\n",
       "    <tr>\n",
       "      <th>36</th>\n",
       "      <td>Sense and Sensibility</td>\n",
       "      <td>8.858776</td>\n",
       "    </tr>\n",
       "    <tr>\n",
       "      <th>28</th>\n",
       "      <td>The Iliad</td>\n",
       "      <td>8.883283</td>\n",
       "    </tr>\n",
       "    <tr>\n",
       "      <th>79</th>\n",
       "      <td>Around the World in Eighty Days</td>\n",
       "      <td>8.906043</td>\n",
       "    </tr>\n",
       "    <tr>\n",
       "      <th>94</th>\n",
       "      <td>David Copperfield</td>\n",
       "      <td>8.945192</td>\n",
       "    </tr>\n",
       "    <tr>\n",
       "      <th>85</th>\n",
       "      <td>Walden, and On The Duty Of Civil Disobedience</td>\n",
       "      <td>9.001664</td>\n",
       "    </tr>\n",
       "    <tr>\n",
       "      <th>41</th>\n",
       "      <td>Narrative of the Life of Frederick Douglass, a...</td>\n",
       "      <td>9.029462</td>\n",
       "    </tr>\n",
       "    <tr>\n",
       "      <th>40</th>\n",
       "      <td>Narrative of the Life of Frederick Douglass, a...</td>\n",
       "      <td>9.035397</td>\n",
       "    </tr>\n",
       "    <tr>\n",
       "      <th>91</th>\n",
       "      <td>Persuasion</td>\n",
       "      <td>9.042482</td>\n",
       "    </tr>\n",
       "    <tr>\n",
       "      <th>50</th>\n",
       "      <td>The Jungle Book</td>\n",
       "      <td>9.053631</td>\n",
       "    </tr>\n",
       "    <tr>\n",
       "      <th>26</th>\n",
       "      <td>Steam, Its Generation and Use</td>\n",
       "      <td>9.065141</td>\n",
       "    </tr>\n",
       "    <tr>\n",
       "      <th>74</th>\n",
       "      <td>My Secret Life, Volumes I. to III.\\n1888 Edition</td>\n",
       "      <td>9.083397</td>\n",
       "    </tr>\n",
       "    <tr>\n",
       "      <th>61</th>\n",
       "      <td>Beyond Good and Evil</td>\n",
       "      <td>9.129208</td>\n",
       "    </tr>\n",
       "    <tr>\n",
       "      <th>6</th>\n",
       "      <td>Ulysses</td>\n",
       "      <td>9.153583</td>\n",
       "    </tr>\n",
       "    <tr>\n",
       "      <th>21</th>\n",
       "      <td>Dracula</td>\n",
       "      <td>9.159145</td>\n",
       "    </tr>\n",
       "    <tr>\n",
       "      <th>43</th>\n",
       "      <td>Poemas</td>\n",
       "      <td>9.164357</td>\n",
       "    </tr>\n",
       "    <tr>\n",
       "      <th>89</th>\n",
       "      <td>The Prince and the Pauper</td>\n",
       "      <td>9.211352</td>\n",
       "    </tr>\n",
       "    <tr>\n",
       "      <th>10</th>\n",
       "      <td>Metamorphosis</td>\n",
       "      <td>9.244035</td>\n",
       "    </tr>\n",
       "    <tr>\n",
       "      <th>0</th>\n",
       "      <td>Pride and Prejudice</td>\n",
       "      <td>9.265320</td>\n",
       "    </tr>\n",
       "    <tr>\n",
       "      <th>1</th>\n",
       "      <td>Alice's Adventures in Wonderland</td>\n",
       "      <td>9.265320</td>\n",
       "    </tr>\n",
       "    <tr>\n",
       "      <th>66</th>\n",
       "      <td>Oliver Twist</td>\n",
       "      <td>9.350754</td>\n",
       "    </tr>\n",
       "    <tr>\n",
       "      <th>64</th>\n",
       "      <td>Autobiography of Benjamin Franklin</td>\n",
       "      <td>9.393953</td>\n",
       "    </tr>\n",
       "    <tr>\n",
       "      <th>5</th>\n",
       "      <td>The Yellow Wallpaper</td>\n",
       "      <td>9.406318</td>\n",
       "    </tr>\n",
       "    <tr>\n",
       "      <th>96</th>\n",
       "      <td>Encyclopedia of Needlework</td>\n",
       "      <td>9.466382</td>\n",
       "    </tr>\n",
       "    <tr>\n",
       "      <th>33</th>\n",
       "      <td>Jane Eyre: An Autobiography</td>\n",
       "      <td>9.661427</td>\n",
       "    </tr>\n",
       "    <tr>\n",
       "      <th>34</th>\n",
       "      <td>Jane Eyre: An Autobiography</td>\n",
       "      <td>9.664229</td>\n",
       "    </tr>\n",
       "    <tr>\n",
       "      <th>99</th>\n",
       "      <td>The Works of Edgar Allan Poe — Volume 1</td>\n",
       "      <td>9.858400</td>\n",
       "    </tr>\n",
       "    <tr>\n",
       "      <th>67</th>\n",
       "      <td>The Story of My Life\\nWith her letters (1887-1...</td>\n",
       "      <td>10.406479</td>\n",
       "    </tr>\n",
       "    <tr>\n",
       "      <th>86</th>\n",
       "      <td>Anne of Green Gables</td>\n",
       "      <td>11.124465</td>\n",
       "    </tr>\n",
       "  </tbody>\n",
       "</table>\n",
       "<p>99 rows × 2 columns</p>\n",
       "</div>"
      ],
      "text/plain": [
       "                                                title  SMOGIndex\n",
       "93          The Awakening, and Selected Short Stories   3.000000\n",
       "81                The King James Version of the Bible   3.000000\n",
       "97                                     The Art of War   4.131155\n",
       "69                                   The Time Machine   4.976849\n",
       "84  Complete Original Short Stories of Guy De Maup...   5.982258\n",
       "37                                         Siddhartha   6.166544\n",
       "47               Novo dicionário da língua portuguesa   6.581048\n",
       "95           Essays of Michel de Montaigne — Complete   6.612771\n",
       "13  The Importance of Being Earnest: A Trivial Com...   6.662959\n",
       "24            Frankenstein; Or, The Modern Prometheus   6.727013\n",
       "98  Calculus Made Easy\\nBeing a very-simplest intr...   6.794271\n",
       "82                The King James Version of the Bible   6.877718\n",
       "38                            A Doll's House : a play   6.943520\n",
       "76  A Christmas Carol in Prose; Being a Ghost Stor...   6.950681\n",
       "75                     Tractatus Logico-Philosophicus   6.950681\n",
       "8                                A Tale of Two Cities   6.976261\n",
       "11                                         The Prince   7.038808\n",
       "9                   The Adventures of Sherlock Holmes   7.252489\n",
       "90  The vision of hell. \\nBy Dante Alighieri.\\nTra...   7.302561\n",
       "35  Gulliver's Travels into Several Remote Nations...   7.319249\n",
       "15                                    Leaves of Grass   7.394145\n",
       "70                           Legends, Tales and Poems   7.397822\n",
       "71                               The Secret Adversary   7.397822\n",
       "59                                 A Study in Scarlet   7.606199\n",
       "25                                          Peter Pan   7.637228\n",
       "31  A Modest Proposal\\nFor preventing the children...   7.670080\n",
       "60  The Gentlemen's Book of Etiquette and Manual o...   7.712313\n",
       "49                                      War and Peace   7.744888\n",
       "30  A Modest Proposal\\nFor preventing the children...   7.816688\n",
       "23            Frankenstein; Or, The Modern Prometheus   7.830132\n",
       "..                                                ...        ...\n",
       "58       Myths and Legends of Ancient Greece and Rome   8.808237\n",
       "62                             The Brothers Karamazov   8.848541\n",
       "36                              Sense and Sensibility   8.858776\n",
       "28                                          The Iliad   8.883283\n",
       "79                    Around the World in Eighty Days   8.906043\n",
       "94                                  David Copperfield   8.945192\n",
       "85      Walden, and On The Duty Of Civil Disobedience   9.001664\n",
       "41  Narrative of the Life of Frederick Douglass, a...   9.029462\n",
       "40  Narrative of the Life of Frederick Douglass, a...   9.035397\n",
       "91                                         Persuasion   9.042482\n",
       "50                                    The Jungle Book   9.053631\n",
       "26                      Steam, Its Generation and Use   9.065141\n",
       "74   My Secret Life, Volumes I. to III.\\n1888 Edition   9.083397\n",
       "61                               Beyond Good and Evil   9.129208\n",
       "6                                             Ulysses   9.153583\n",
       "21                                            Dracula   9.159145\n",
       "43                                             Poemas   9.164357\n",
       "89                          The Prince and the Pauper   9.211352\n",
       "10                                      Metamorphosis   9.244035\n",
       "0                                 Pride and Prejudice   9.265320\n",
       "1                    Alice's Adventures in Wonderland   9.265320\n",
       "66                                       Oliver Twist   9.350754\n",
       "64                 Autobiography of Benjamin Franklin   9.393953\n",
       "5                                The Yellow Wallpaper   9.406318\n",
       "96                         Encyclopedia of Needlework   9.466382\n",
       "33                        Jane Eyre: An Autobiography   9.661427\n",
       "34                        Jane Eyre: An Autobiography   9.664229\n",
       "99            The Works of Edgar Allan Poe — Volume 1   9.858400\n",
       "67  The Story of My Life\\nWith her letters (1887-1...  10.406479\n",
       "86                               Anne of Green Gables  11.124465\n",
       "\n",
       "[99 rows x 2 columns]"
      ]
     },
     "execution_count": 28,
     "metadata": {},
     "output_type": "execute_result"
    }
   ],
   "source": [
    "df[~df.SMOGIndex.isnull()][['title','SMOGIndex']].sort(columns='SMOGIndex')"
   ]
  },
  {
   "cell_type": "code",
   "execution_count": null,
   "metadata": {
    "collapsed": false
   },
   "outputs": [],
   "source": [
    "# alternative way to get Gutenberg texts\n",
    "# calculate the URI\n",
    "# https://github.com/c-w/Gutenberg/blob/PyPI-0.4/gutenberg/acquire/text.py#L19\n",
    "\n",
    "from gutenberg import acquire\n",
    "acquire.text._format_download_uri(2701)"
   ]
  }
 ],
 "metadata": {
  "kernelspec": {
   "display_name": "Python 2",
   "language": "python",
   "name": "python2"
  },
  "language_info": {
   "codemirror_mode": {
    "name": "ipython",
    "version": 2
   },
   "file_extension": ".py",
   "mimetype": "text/x-python",
   "name": "python",
   "nbconvert_exporter": "python",
   "pygments_lexer": "ipython2",
   "version": "2.7.6"
  }
 },
 "nbformat": 4,
 "nbformat_minor": 0
}
